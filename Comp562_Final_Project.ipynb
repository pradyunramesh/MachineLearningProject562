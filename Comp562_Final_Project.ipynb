{
  "cells": [
    {
      "cell_type": "markdown",
      "metadata": {
        "id": "view-in-github",
        "colab_type": "text"
      },
      "source": [
        "<a href=\"https://colab.research.google.com/github/pradyunramesh/MachineLearningProject562/blob/main/Comp562_Final_Project.ipynb\" target=\"_parent\"><img src=\"https://colab.research.google.com/assets/colab-badge.svg\" alt=\"Open In Colab\"/></a>"
      ]
    },
    {
      "cell_type": "code",
      "execution_count": null,
      "metadata": {
        "colab": {
          "base_uri": "https://localhost:8080/",
          "height": 74
        },
        "id": "kBWsmLjyQb6F",
        "outputId": "0923a060-fdcd-4d51-8019-2ae36b671d5a"
      },
      "outputs": [
        {
          "output_type": "display_data",
          "data": {
            "text/plain": [
              "<IPython.core.display.HTML object>"
            ],
            "text/html": [
              "\n",
              "     <input type=\"file\" id=\"files-be34a312-db97-4b7e-b9b0-0e9cc076dbbb\" name=\"files[]\" multiple disabled\n",
              "        style=\"border:none\" />\n",
              "     <output id=\"result-be34a312-db97-4b7e-b9b0-0e9cc076dbbb\">\n",
              "      Upload widget is only available when the cell has been executed in the\n",
              "      current browser session. Please rerun this cell to enable.\n",
              "      </output>\n",
              "      <script>// Copyright 2017 Google LLC\n",
              "//\n",
              "// Licensed under the Apache License, Version 2.0 (the \"License\");\n",
              "// you may not use this file except in compliance with the License.\n",
              "// You may obtain a copy of the License at\n",
              "//\n",
              "//      http://www.apache.org/licenses/LICENSE-2.0\n",
              "//\n",
              "// Unless required by applicable law or agreed to in writing, software\n",
              "// distributed under the License is distributed on an \"AS IS\" BASIS,\n",
              "// WITHOUT WARRANTIES OR CONDITIONS OF ANY KIND, either express or implied.\n",
              "// See the License for the specific language governing permissions and\n",
              "// limitations under the License.\n",
              "\n",
              "/**\n",
              " * @fileoverview Helpers for google.colab Python module.\n",
              " */\n",
              "(function(scope) {\n",
              "function span(text, styleAttributes = {}) {\n",
              "  const element = document.createElement('span');\n",
              "  element.textContent = text;\n",
              "  for (const key of Object.keys(styleAttributes)) {\n",
              "    element.style[key] = styleAttributes[key];\n",
              "  }\n",
              "  return element;\n",
              "}\n",
              "\n",
              "// Max number of bytes which will be uploaded at a time.\n",
              "const MAX_PAYLOAD_SIZE = 100 * 1024;\n",
              "\n",
              "function _uploadFiles(inputId, outputId) {\n",
              "  const steps = uploadFilesStep(inputId, outputId);\n",
              "  const outputElement = document.getElementById(outputId);\n",
              "  // Cache steps on the outputElement to make it available for the next call\n",
              "  // to uploadFilesContinue from Python.\n",
              "  outputElement.steps = steps;\n",
              "\n",
              "  return _uploadFilesContinue(outputId);\n",
              "}\n",
              "\n",
              "// This is roughly an async generator (not supported in the browser yet),\n",
              "// where there are multiple asynchronous steps and the Python side is going\n",
              "// to poll for completion of each step.\n",
              "// This uses a Promise to block the python side on completion of each step,\n",
              "// then passes the result of the previous step as the input to the next step.\n",
              "function _uploadFilesContinue(outputId) {\n",
              "  const outputElement = document.getElementById(outputId);\n",
              "  const steps = outputElement.steps;\n",
              "\n",
              "  const next = steps.next(outputElement.lastPromiseValue);\n",
              "  return Promise.resolve(next.value.promise).then((value) => {\n",
              "    // Cache the last promise value to make it available to the next\n",
              "    // step of the generator.\n",
              "    outputElement.lastPromiseValue = value;\n",
              "    return next.value.response;\n",
              "  });\n",
              "}\n",
              "\n",
              "/**\n",
              " * Generator function which is called between each async step of the upload\n",
              " * process.\n",
              " * @param {string} inputId Element ID of the input file picker element.\n",
              " * @param {string} outputId Element ID of the output display.\n",
              " * @return {!Iterable<!Object>} Iterable of next steps.\n",
              " */\n",
              "function* uploadFilesStep(inputId, outputId) {\n",
              "  const inputElement = document.getElementById(inputId);\n",
              "  inputElement.disabled = false;\n",
              "\n",
              "  const outputElement = document.getElementById(outputId);\n",
              "  outputElement.innerHTML = '';\n",
              "\n",
              "  const pickedPromise = new Promise((resolve) => {\n",
              "    inputElement.addEventListener('change', (e) => {\n",
              "      resolve(e.target.files);\n",
              "    });\n",
              "  });\n",
              "\n",
              "  const cancel = document.createElement('button');\n",
              "  inputElement.parentElement.appendChild(cancel);\n",
              "  cancel.textContent = 'Cancel upload';\n",
              "  const cancelPromise = new Promise((resolve) => {\n",
              "    cancel.onclick = () => {\n",
              "      resolve(null);\n",
              "    };\n",
              "  });\n",
              "\n",
              "  // Wait for the user to pick the files.\n",
              "  const files = yield {\n",
              "    promise: Promise.race([pickedPromise, cancelPromise]),\n",
              "    response: {\n",
              "      action: 'starting',\n",
              "    }\n",
              "  };\n",
              "\n",
              "  cancel.remove();\n",
              "\n",
              "  // Disable the input element since further picks are not allowed.\n",
              "  inputElement.disabled = true;\n",
              "\n",
              "  if (!files) {\n",
              "    return {\n",
              "      response: {\n",
              "        action: 'complete',\n",
              "      }\n",
              "    };\n",
              "  }\n",
              "\n",
              "  for (const file of files) {\n",
              "    const li = document.createElement('li');\n",
              "    li.append(span(file.name, {fontWeight: 'bold'}));\n",
              "    li.append(span(\n",
              "        `(${file.type || 'n/a'}) - ${file.size} bytes, ` +\n",
              "        `last modified: ${\n",
              "            file.lastModifiedDate ? file.lastModifiedDate.toLocaleDateString() :\n",
              "                                    'n/a'} - `));\n",
              "    const percent = span('0% done');\n",
              "    li.appendChild(percent);\n",
              "\n",
              "    outputElement.appendChild(li);\n",
              "\n",
              "    const fileDataPromise = new Promise((resolve) => {\n",
              "      const reader = new FileReader();\n",
              "      reader.onload = (e) => {\n",
              "        resolve(e.target.result);\n",
              "      };\n",
              "      reader.readAsArrayBuffer(file);\n",
              "    });\n",
              "    // Wait for the data to be ready.\n",
              "    let fileData = yield {\n",
              "      promise: fileDataPromise,\n",
              "      response: {\n",
              "        action: 'continue',\n",
              "      }\n",
              "    };\n",
              "\n",
              "    // Use a chunked sending to avoid message size limits. See b/62115660.\n",
              "    let position = 0;\n",
              "    do {\n",
              "      const length = Math.min(fileData.byteLength - position, MAX_PAYLOAD_SIZE);\n",
              "      const chunk = new Uint8Array(fileData, position, length);\n",
              "      position += length;\n",
              "\n",
              "      const base64 = btoa(String.fromCharCode.apply(null, chunk));\n",
              "      yield {\n",
              "        response: {\n",
              "          action: 'append',\n",
              "          file: file.name,\n",
              "          data: base64,\n",
              "        },\n",
              "      };\n",
              "\n",
              "      let percentDone = fileData.byteLength === 0 ?\n",
              "          100 :\n",
              "          Math.round((position / fileData.byteLength) * 100);\n",
              "      percent.textContent = `${percentDone}% done`;\n",
              "\n",
              "    } while (position < fileData.byteLength);\n",
              "  }\n",
              "\n",
              "  // All done.\n",
              "  yield {\n",
              "    response: {\n",
              "      action: 'complete',\n",
              "    }\n",
              "  };\n",
              "}\n",
              "\n",
              "scope.google = scope.google || {};\n",
              "scope.google.colab = scope.google.colab || {};\n",
              "scope.google.colab._files = {\n",
              "  _uploadFiles,\n",
              "  _uploadFilesContinue,\n",
              "};\n",
              "})(self);\n",
              "</script> "
            ]
          },
          "metadata": {}
        },
        {
          "output_type": "stream",
          "name": "stdout",
          "text": [
            "Saving subjects-questions.csv to subjects-questions (1).csv\n"
          ]
        }
      ],
      "source": [
        "#Extend to multi-class logistic regression:\n",
        "import numpy as np\n",
        "import pandas as pd\n",
        "from google.colab import files\n",
        "uploaded = files.upload()"
      ]
    },
    {
      "cell_type": "code",
      "execution_count": null,
      "metadata": {
        "colab": {
          "base_uri": "https://localhost:8080/",
          "height": 206
        },
        "id": "pAQsx-KFRF3_",
        "outputId": "30b1ff38-55bf-4028-9d71-a67993b5d536"
      },
      "outputs": [
        {
          "output_type": "execute_result",
          "data": {
            "text/plain": [
              "                                                 eng    Subject\n",
              "0  An anti-forest measure is\\nA. Afforestation\\nB...    Biology\n",
              "1  Among the following organic acids, the acid pr...  Chemistry\n",
              "2  If the area of two similar triangles are equal...      Maths\n",
              "3  In recent year, there has been a growing\\nconc...    Biology\n",
              "4  Which of the following statement\\nregarding tr...    Physics"
            ],
            "text/html": [
              "\n",
              "  <div id=\"df-eadd014a-f951-446b-a19c-db91d68e1f7e\">\n",
              "    <div class=\"colab-df-container\">\n",
              "      <div>\n",
              "<style scoped>\n",
              "    .dataframe tbody tr th:only-of-type {\n",
              "        vertical-align: middle;\n",
              "    }\n",
              "\n",
              "    .dataframe tbody tr th {\n",
              "        vertical-align: top;\n",
              "    }\n",
              "\n",
              "    .dataframe thead th {\n",
              "        text-align: right;\n",
              "    }\n",
              "</style>\n",
              "<table border=\"1\" class=\"dataframe\">\n",
              "  <thead>\n",
              "    <tr style=\"text-align: right;\">\n",
              "      <th></th>\n",
              "      <th>eng</th>\n",
              "      <th>Subject</th>\n",
              "    </tr>\n",
              "  </thead>\n",
              "  <tbody>\n",
              "    <tr>\n",
              "      <th>0</th>\n",
              "      <td>An anti-forest measure is\\nA. Afforestation\\nB...</td>\n",
              "      <td>Biology</td>\n",
              "    </tr>\n",
              "    <tr>\n",
              "      <th>1</th>\n",
              "      <td>Among the following organic acids, the acid pr...</td>\n",
              "      <td>Chemistry</td>\n",
              "    </tr>\n",
              "    <tr>\n",
              "      <th>2</th>\n",
              "      <td>If the area of two similar triangles are equal...</td>\n",
              "      <td>Maths</td>\n",
              "    </tr>\n",
              "    <tr>\n",
              "      <th>3</th>\n",
              "      <td>In recent year, there has been a growing\\nconc...</td>\n",
              "      <td>Biology</td>\n",
              "    </tr>\n",
              "    <tr>\n",
              "      <th>4</th>\n",
              "      <td>Which of the following statement\\nregarding tr...</td>\n",
              "      <td>Physics</td>\n",
              "    </tr>\n",
              "  </tbody>\n",
              "</table>\n",
              "</div>\n",
              "      <button class=\"colab-df-convert\" onclick=\"convertToInteractive('df-eadd014a-f951-446b-a19c-db91d68e1f7e')\"\n",
              "              title=\"Convert this dataframe to an interactive table.\"\n",
              "              style=\"display:none;\">\n",
              "        \n",
              "  <svg xmlns=\"http://www.w3.org/2000/svg\" height=\"24px\"viewBox=\"0 0 24 24\"\n",
              "       width=\"24px\">\n",
              "    <path d=\"M0 0h24v24H0V0z\" fill=\"none\"/>\n",
              "    <path d=\"M18.56 5.44l.94 2.06.94-2.06 2.06-.94-2.06-.94-.94-2.06-.94 2.06-2.06.94zm-11 1L8.5 8.5l.94-2.06 2.06-.94-2.06-.94L8.5 2.5l-.94 2.06-2.06.94zm10 10l.94 2.06.94-2.06 2.06-.94-2.06-.94-.94-2.06-.94 2.06-2.06.94z\"/><path d=\"M17.41 7.96l-1.37-1.37c-.4-.4-.92-.59-1.43-.59-.52 0-1.04.2-1.43.59L10.3 9.45l-7.72 7.72c-.78.78-.78 2.05 0 2.83L4 21.41c.39.39.9.59 1.41.59.51 0 1.02-.2 1.41-.59l7.78-7.78 2.81-2.81c.8-.78.8-2.07 0-2.86zM5.41 20L4 18.59l7.72-7.72 1.47 1.35L5.41 20z\"/>\n",
              "  </svg>\n",
              "      </button>\n",
              "      \n",
              "  <style>\n",
              "    .colab-df-container {\n",
              "      display:flex;\n",
              "      flex-wrap:wrap;\n",
              "      gap: 12px;\n",
              "    }\n",
              "\n",
              "    .colab-df-convert {\n",
              "      background-color: #E8F0FE;\n",
              "      border: none;\n",
              "      border-radius: 50%;\n",
              "      cursor: pointer;\n",
              "      display: none;\n",
              "      fill: #1967D2;\n",
              "      height: 32px;\n",
              "      padding: 0 0 0 0;\n",
              "      width: 32px;\n",
              "    }\n",
              "\n",
              "    .colab-df-convert:hover {\n",
              "      background-color: #E2EBFA;\n",
              "      box-shadow: 0px 1px 2px rgba(60, 64, 67, 0.3), 0px 1px 3px 1px rgba(60, 64, 67, 0.15);\n",
              "      fill: #174EA6;\n",
              "    }\n",
              "\n",
              "    [theme=dark] .colab-df-convert {\n",
              "      background-color: #3B4455;\n",
              "      fill: #D2E3FC;\n",
              "    }\n",
              "\n",
              "    [theme=dark] .colab-df-convert:hover {\n",
              "      background-color: #434B5C;\n",
              "      box-shadow: 0px 1px 3px 1px rgba(0, 0, 0, 0.15);\n",
              "      filter: drop-shadow(0px 1px 2px rgba(0, 0, 0, 0.3));\n",
              "      fill: #FFFFFF;\n",
              "    }\n",
              "  </style>\n",
              "\n",
              "      <script>\n",
              "        const buttonEl =\n",
              "          document.querySelector('#df-eadd014a-f951-446b-a19c-db91d68e1f7e button.colab-df-convert');\n",
              "        buttonEl.style.display =\n",
              "          google.colab.kernel.accessAllowed ? 'block' : 'none';\n",
              "\n",
              "        async function convertToInteractive(key) {\n",
              "          const element = document.querySelector('#df-eadd014a-f951-446b-a19c-db91d68e1f7e');\n",
              "          const dataTable =\n",
              "            await google.colab.kernel.invokeFunction('convertToInteractive',\n",
              "                                                     [key], {});\n",
              "          if (!dataTable) return;\n",
              "\n",
              "          const docLinkHtml = 'Like what you see? Visit the ' +\n",
              "            '<a target=\"_blank\" href=https://colab.research.google.com/notebooks/data_table.ipynb>data table notebook</a>'\n",
              "            + ' to learn more about interactive tables.';\n",
              "          element.innerHTML = '';\n",
              "          dataTable['output_type'] = 'display_data';\n",
              "          await google.colab.output.renderOutput(dataTable, element);\n",
              "          const docLink = document.createElement('div');\n",
              "          docLink.innerHTML = docLinkHtml;\n",
              "          element.appendChild(docLink);\n",
              "        }\n",
              "      </script>\n",
              "    </div>\n",
              "  </div>\n",
              "  "
            ]
          },
          "metadata": {},
          "execution_count": 2
        }
      ],
      "source": [
        "subjects_data = pd.read_csv(\"subjects-questions.csv\")\n",
        "subjects_data.head(5)"
      ]
    },
    {
      "cell_type": "code",
      "execution_count": null,
      "metadata": {
        "colab": {
          "base_uri": "https://localhost:8080/"
        },
        "id": "hVmWrACeaK9x",
        "outputId": "ac99c827-4edb-4815-dbe3-9d4bf0edfa25"
      },
      "outputs": [
        {
          "output_type": "execute_result",
          "data": {
            "text/plain": [
              "eng        0\n",
              "Subject    0\n",
              "dtype: int64"
            ]
          },
          "metadata": {},
          "execution_count": 3
        }
      ],
      "source": [
        "subjects_data.isnull().sum()"
      ]
    },
    {
      "cell_type": "code",
      "execution_count": null,
      "metadata": {
        "colab": {
          "base_uri": "https://localhost:8080/"
        },
        "id": "AoYckoWjaOI2",
        "outputId": "a6b87059-bdcc-407c-ea6c-e6863a9465e5"
      },
      "outputs": [
        {
          "output_type": "execute_result",
          "data": {
            "text/plain": [
              "Subject\n",
              "Biology      13124\n",
              "Chemistry    37767\n",
              "Maths        33190\n",
              "Physics      38438\n",
              "dtype: int64"
            ]
          },
          "metadata": {},
          "execution_count": 4
        }
      ],
      "source": [
        "#Apart from Biology, all other classes appear to be of similar size\n",
        "subjects_data.groupby(['Subject']).size()"
      ]
    },
    {
      "cell_type": "code",
      "execution_count": null,
      "metadata": {
        "id": "oDOVmcR0ajhW"
      },
      "outputs": [],
      "source": [
        "subjects_data.loc[subjects_data[\"Subject\"] == \"Biology\", \"Subject\"] = 0\n",
        "subjects_data.loc[subjects_data[\"Subject\"] == \"Chemistry\", \"Subject\"] = 1\n",
        "subjects_data.loc[subjects_data[\"Subject\"] == \"Physics\", \"Subject\"] = 2\n",
        "subjects_data.loc[subjects_data[\"Subject\"] == \"Maths\", \"Subject\"] = 3"
      ]
    },
    {
      "cell_type": "code",
      "execution_count": null,
      "metadata": {
        "id": "3aKl8WijmQNC"
      },
      "outputs": [],
      "source": [
        "#!pip install sentence_transformers\n",
        "from sentence_transformers import SentenceTransformer\n",
        "model = SentenceTransformer('paraphrase-MiniLM-L6-v2')"
      ]
    },
    {
      "cell_type": "code",
      "execution_count": null,
      "metadata": {
        "colab": {
          "base_uri": "https://localhost:8080/"
        },
        "id": "0WYtB_XOYAFw",
        "outputId": "c1f6e8d2-9a59-41ee-92f8-29407dcee323"
      },
      "outputs": [
        {
          "output_type": "execute_result",
          "data": {
            "text/plain": [
              "array(['An anti-forest measure is\\nA. Afforestation\\nB. Selective grazing\\nC . Clearing forest\\nD. Selective felling',\n",
              "       'Among the following organic acids, the acid present in rancid butter is:\\nA . pyruvic acid\\nB. lactic acid\\nc. butyric acid\\nD. acetic acid',\n",
              "       'If the area of two similar triangles are equal, then they are\\nA . equilateral\\nB. isosceles\\nc. congruent\\nD. not congruent',\n",
              "       ...,\n",
              "       'Member of Dipnoi are native of\\nA. India.\\nB. Africa and Australia.\\nc. New Zealand\\nD. None of the above',\n",
              "       'In one average-life,\\nA. half the active nuclei decay\\nB. less than half the active nuclei decay.\\nC. more than half the active nuclei decay.\\nD. all the nuclei decay.',\n",
              "       'State whether true or false.\\nA magnetic field is a region around a magnet where magnetic lines of force\\nact\\nA. True\\nB. False'],\n",
              "      dtype=object)"
            ]
          },
          "metadata": {},
          "execution_count": 8
        }
      ],
      "source": [
        "X_vals = subjects_data['eng'].to_numpy()\n",
        "X_vals"
      ]
    },
    {
      "cell_type": "code",
      "execution_count": null,
      "metadata": {
        "id": "3HXHio9wa7VT"
      },
      "outputs": [],
      "source": [
        "from tensorflow.keras.utils import to_categorical\n",
        "y_vals_multiple = np.array(subjects_data['Subject'],dtype=np.float32)"
      ]
    },
    {
      "cell_type": "code",
      "execution_count": null,
      "metadata": {
        "id": "PeM_0QDGWRVx"
      },
      "outputs": [],
      "source": [
        "from sklearn.model_selection import train_test_split\n",
        "X_train_initial, X_test, y_train_initial, y_test = train_test_split(X_vals, y_vals_multiple, test_size=0.2, random_state=42)\n",
        "X_train, X_validation, y_train, y_validation = train_test_split(X_train_initial, y_train_initial, test_size = 0.2, random_state = 42)"
      ]
    },
    {
      "cell_type": "code",
      "execution_count": null,
      "metadata": {
        "id": "s11BQqtIy80M"
      },
      "outputs": [],
      "source": [
        "y_train_multiple = to_categorical(y_train)\n",
        "y_test_multiple = to_categorical(y_test)\n",
        "y_validation_multiple = to_categorical(y_validation)"
      ]
    },
    {
      "cell_type": "code",
      "execution_count": null,
      "metadata": {
        "colab": {
          "base_uri": "https://localhost:8080/"
        },
        "id": "i9z3tRQRbBXe",
        "outputId": "43e8533e-d45e-4c97-f0ce-e1c7e4d15c49"
      },
      "outputs": [
        {
          "output_type": "execute_result",
          "data": {
            "text/plain": [
              "array([[-0.18480662, -0.02374146,  0.0423011 , ..., -0.43142626,\n",
              "         0.6468544 ,  0.38509923],\n",
              "       [ 0.37487864,  0.12404861, -0.08612633, ...,  0.06217834,\n",
              "        -0.25348204,  0.00627198],\n",
              "       [ 0.02346818,  0.25391117, -0.11395633, ...,  0.27049348,\n",
              "         0.00884567,  0.1540007 ],\n",
              "       ...,\n",
              "       [-0.29296255,  0.6057741 ,  0.23564363, ..., -0.33942014,\n",
              "        -0.3326536 ,  0.12453619],\n",
              "       [-0.05065663,  0.29535618,  0.3795538 , ..., -0.28573978,\n",
              "         0.3474969 ,  0.25256142],\n",
              "       [ 0.05757226,  0.15701616,  0.39181322, ..., -0.28199792,\n",
              "         0.08951461, -0.17346118]], dtype=float32)"
            ]
          },
          "metadata": {},
          "execution_count": 12
        }
      ],
      "source": [
        "embeddings_train = model.encode(X_train)\n",
        "embeddings_train"
      ]
    },
    {
      "cell_type": "code",
      "execution_count": null,
      "metadata": {
        "id": "x3L-2CvQisXJ"
      },
      "outputs": [],
      "source": [
        "from sklearn.preprocessing import MinMaxScaler\n",
        "scaler = MinMaxScaler()\n",
        "embeddings_train_new = scaler.fit_transform(embeddings_train)"
      ]
    },
    {
      "cell_type": "code",
      "execution_count": null,
      "metadata": {
        "id": "2Ks4ecRoXRSN"
      },
      "outputs": [],
      "source": [
        "embeddings_test = model.encode(X_test)\n",
        "embeddings_test_new = scaler.fit_transform(embeddings_test)\n",
        "embeddings_validation = model.encode(X_validation)\n",
        "embeddings_validation_new = scaler.fit_transform(embeddings_validation)"
      ]
    },
    {
      "cell_type": "code",
      "execution_count": null,
      "metadata": {
        "colab": {
          "base_uri": "https://localhost:8080/"
        },
        "id": "lxeQr0Mexm__",
        "outputId": "fb8d0dc1-36f6-49b2-8b3f-471557482607"
      },
      "outputs": [
        {
          "output_type": "stream",
          "name": "stdout",
          "text": [
            "Accuracy of logistic regression classifier on test set: 0.9002\n"
          ]
        }
      ],
      "source": [
        "#Baseline machine learning models:\n",
        "#1) Logistic Regression model:\n",
        "from sklearn.linear_model import LogisticRegression\n",
        "reg_model = LogisticRegression(max_iter = 500)\n",
        "result = reg_model.fit(embeddings_train, y_train)\n",
        "print('Accuracy of logistic regression classifier on test set: {:.4f}'.format(reg_model.score(embeddings_test, y_test)))"
      ]
    },
    {
      "cell_type": "code",
      "execution_count": null,
      "metadata": {
        "id": "IHqpQJsf4LWl",
        "colab": {
          "base_uri": "https://localhost:8080/"
        },
        "outputId": "a6f71853-45a1-4ba2-9a27-0c6c1bcf3ff8"
      },
      "outputs": [
        {
          "output_type": "stream",
          "name": "stdout",
          "text": [
            "Accuracy of SVM with polynomial kernel on test set: 0.9382\n"
          ]
        }
      ],
      "source": [
        "#SVM Model with polynomial kernel:\n",
        "from sklearn.metrics.pairwise import kernel_metrics\n",
        "from sklearn.metrics import accuracy_score, f1_score\n",
        "from sklearn import svm\n",
        "poly_kernel = svm.SVC(kernel = 'poly', degree = 3)\n",
        "rbf_kernel = svm.SVC(kernel = 'rbf')\n",
        "poly_kernel.fit(embeddings_train, y_train)\n",
        "y_pred_poly = poly_kernel.predict(embeddings_test)\n",
        "print('Accuracy of SVM with polynomial kernel on test set: {:.4f}'.format(poly_kernel.score(embeddings_test, y_test)))\n",
        "#print('F1 Score: %.3f' % f1_score(y_test, y_pred_poly))"
      ]
    },
    {
      "cell_type": "code",
      "execution_count": null,
      "metadata": {
        "id": "MYCQCrsT9tYz",
        "colab": {
          "base_uri": "https://localhost:8080/"
        },
        "outputId": "89596ae8-8a28-4b48-a830-6f1639a590f6"
      },
      "outputs": [
        {
          "output_type": "stream",
          "name": "stdout",
          "text": [
            "Accuracy of SVM with rbf kernel on test set: 0.9346\n"
          ]
        }
      ],
      "source": [
        "#SVM Model with rbf kernel:\n",
        "rbf_kernel.fit(embeddings_train, y_train)\n",
        "y_pred_rbf = rbf_kernel.predict(embeddings_test)\n",
        "print('Accuracy of SVM with rbf kernel on test set: {:.4f}'.format(rbf_kernel.score(embeddings_test, y_test)))\n",
        "#print('F1 Score: %.3f' % f1_score(y_test, y_pred_rbf))"
      ]
    },
    {
      "cell_type": "code",
      "execution_count": null,
      "metadata": {
        "id": "E6NpCcH5f0oN"
      },
      "outputs": [],
      "source": [
        "#Basic neural network for text classification\n",
        "import tensorflow as tf\n",
        "from keras.models import Sequential\n",
        "from keras.layers import Dense, Flatten, Dropout\n",
        "tf.random.set_seed(42)\n",
        "model_multiple = Sequential()\n",
        "model_multiple.add(Flatten()) #Flattens the multi-dimensional input tensor into single dimension\n",
        "model_multiple.add(Dense(384, activation = 'relu'))\n",
        "model_multiple.add(Dropout(rate = 0.5)) #Dropout rate selected by varying hyperparameters\n",
        "model_multiple.add(Dense(128, activation = 'relu'))\n",
        "model_multiple.add(Dropout(rate = 0.5)) #Dropout rate selected by varying hyperparameters\n",
        "model_multiple.add(Dense(4,activation = 'sigmoid'))\n",
        "model_multiple.compile(loss = 'binary_crossentropy', optimizer = 'adam', metrics = ['accuracy'])"
      ]
    },
    {
      "cell_type": "code",
      "execution_count": null,
      "metadata": {
        "colab": {
          "base_uri": "https://localhost:8080/"
        },
        "id": "tPSdjNqEsSPv",
        "outputId": "2f0bd74a-5125-4ae7-8409-b4c42dde1c1a"
      },
      "outputs": [
        {
          "output_type": "stream",
          "name": "stdout",
          "text": [
            "Epoch 1/5\n",
            "3921/3921 [==============================] - 20s 5ms/step - loss: 0.1579 - accuracy: 0.8833 - val_loss: 0.1180 - val_accuracy: 0.9096\n",
            "Epoch 2/5\n",
            "3921/3921 [==============================] - 15s 4ms/step - loss: 0.1254 - accuracy: 0.9059 - val_loss: 0.1103 - val_accuracy: 0.9138\n",
            "Epoch 3/5\n",
            "3921/3921 [==============================] - 14s 4ms/step - loss: 0.1150 - accuracy: 0.9157 - val_loss: 0.1026 - val_accuracy: 0.9213\n",
            "Epoch 4/5\n",
            "3921/3921 [==============================] - 15s 4ms/step - loss: 0.1068 - accuracy: 0.9209 - val_loss: 0.1003 - val_accuracy: 0.9230\n",
            "Epoch 5/5\n",
            "3921/3921 [==============================] - 15s 4ms/step - loss: 0.1008 - accuracy: 0.9242 - val_loss: 0.0979 - val_accuracy: 0.9250\n"
          ]
        }
      ],
      "source": [
        "tensor_input_multiple = tf.convert_to_tensor(embeddings_train)\n",
        "fit2 = model_multiple.fit(tensor_input_multiple, y_train_multiple, validation_data = (embeddings_validation, y_validation_multiple), epochs = 5, batch_size = 20)"
      ]
    },
    {
      "cell_type": "code",
      "execution_count": null,
      "metadata": {
        "colab": {
          "base_uri": "https://localhost:8080/"
        },
        "id": "xJSVDqzO1ouU",
        "outputId": "c13978ae-ce2a-4e92-ef32-38aa0d509266"
      },
      "outputs": [
        {
          "output_type": "stream",
          "name": "stdout",
          "text": [
            "766/766 [==============================] - 2s 2ms/step - loss: 0.1002 - accuracy: 0.9246\n"
          ]
        },
        {
          "output_type": "execute_result",
          "data": {
            "text/plain": [
              "[0.10016343742609024, 0.9245837330818176]"
            ]
          },
          "metadata": {},
          "execution_count": 17
        }
      ],
      "source": [
        "model_multiple.evaluate(embeddings_test, y_test_multiple)"
      ]
    },
    {
      "cell_type": "code",
      "execution_count": null,
      "metadata": {
        "id": "_TC7hebro6hF"
      },
      "outputs": [],
      "source": [
        "from tensorflow.keras.preprocessing.text import one_hot\n",
        "from tensorflow.keras.preprocessing.sequence import pad_sequences\n",
        "vocab = 5000\n",
        "X_train_cnn = [one_hot(data, vocab,filters='!\"%&()./:;?[\\]^_',lower=True, split=' ') for data in X_train]\n",
        "X_test_cnn = [one_hot(data, vocab,filters='!\"%&()./:;?[\\]^_',lower=True, split=' ') for data in X_test]\n",
        "X_validation_cnn = [one_hot(data, vocab,filters='!\"%&()./:;?[\\]^_',lower=True, split=' ') for data in X_validation]\n",
        "X_train_pad_cnn = pad_sequences(X_train_cnn, maxlen= 500, padding='post')\n",
        "X_test_pad_cnn = pad_sequences(X_test_cnn, maxlen=500, padding='post')\n",
        "X_validation_pad_cnn = pad_sequences(X_validation_cnn, maxlen = 500, padding = 'post')"
      ]
    },
    {
      "cell_type": "code",
      "execution_count": null,
      "metadata": {
        "colab": {
          "base_uri": "https://localhost:8080/"
        },
        "id": "byEeyh2QipAS",
        "outputId": "61629787-cdff-4798-f163-dc610be27f5f"
      },
      "outputs": [
        {
          "output_type": "stream",
          "name": "stdout",
          "text": [
            "Epoch 1/5\n",
            "3921/3921 [==============================] - 33s 7ms/step - loss: 0.4039 - accuracy: 0.7007 - val_loss: 0.3169 - val_accuracy: 0.7999\n",
            "Epoch 2/5\n",
            "3921/3921 [==============================] - 32s 8ms/step - loss: 0.3052 - accuracy: 0.8131 - val_loss: 0.2751 - val_accuracy: 0.8499\n",
            "Epoch 3/5\n",
            "3921/3921 [==============================] - 23s 6ms/step - loss: 0.2925 - accuracy: 0.8229 - val_loss: 0.2823 - val_accuracy: 0.8386\n",
            "Epoch 4/5\n",
            "3921/3921 [==============================] - 24s 6ms/step - loss: 0.2989 - accuracy: 0.8287 - val_loss: 0.3692 - val_accuracy: 0.8505\n",
            "Epoch 5/5\n",
            "3921/3921 [==============================] - 23s 6ms/step - loss: 0.2870 - accuracy: 0.8297 - val_loss: 0.2673 - val_accuracy: 0.8364\n",
            "2451/2451 [==============================] - 6s 2ms/step\n"
          ]
        }
      ],
      "source": [
        "# Ensemble CNN-GRU neural network for text classification\n",
        "import tensorflow as tf\n",
        "from keras.models import Sequential\n",
        "from keras.layers import Dense, Flatten, Dropout\n",
        "from keras.layers.convolutional import Conv1D\n",
        "from tensorflow.keras.layers import Bidirectional, GRU, Embedding, GlobalMaxPooling1D, MaxPooling1D, Flatten\n",
        "model_cnn = Sequential()\n",
        "model_cnn.add(Embedding(vocab,10, input_length = 500))\n",
        "model_cnn.add(Conv1D(filters = 384, kernel_size = 3, activation = 'relu'))\n",
        "model_cnn.add(GlobalMaxPooling1D())\n",
        "model_cnn.add(Dense(128, activation = 'relu'))\n",
        "model_cnn.add(Dropout(rate = 0.5))\n",
        "model_cnn.add(Dense(4, activation = 'relu'))\n",
        "model_cnn.compile(loss = 'binary_crossentropy', optimizer = 'adam', metrics = ['accuracy'])\n",
        "model_cnn.fit(X_train_pad_cnn, y_train_multiple, validation_data = (X_validation_pad_cnn, y_validation_multiple), epochs = 5, batch_size = 20)\n",
        "output1 = model_cnn.predict(X_train_pad_cnn)"
      ]
    },
    {
      "cell_type": "code",
      "source": [
        "model_cnn.evaluate(X_test_pad_cnn, y_test_multiple)"
      ],
      "metadata": {
        "colab": {
          "base_uri": "https://localhost:8080/"
        },
        "id": "439n28_usQCQ",
        "outputId": "04c6c665-ad7f-4171-fdd2-f4fc62e93b0d"
      },
      "execution_count": null,
      "outputs": [
        {
          "output_type": "stream",
          "name": "stdout",
          "text": [
            "766/766 [==============================] - 3s 4ms/step - loss: 0.2790 - accuracy: 0.8349\n"
          ]
        },
        {
          "output_type": "execute_result",
          "data": {
            "text/plain": [
              "[0.27902671694755554, 0.8349249362945557]"
            ]
          },
          "metadata": {},
          "execution_count": 21
        }
      ]
    },
    {
      "cell_type": "code",
      "execution_count": null,
      "metadata": {
        "colab": {
          "base_uri": "https://localhost:8080/"
        },
        "id": "0X0oVIr8PCyH",
        "outputId": "d702aaf4-0ac3-47ae-c798-cb52e8b8aff7"
      },
      "outputs": [
        {
          "output_type": "stream",
          "name": "stdout",
          "text": [
            "Epoch 1/4\n",
            "3921/3921 [==============================] - 238s 60ms/step - loss: 0.2816 - accuracy: 0.7517 - val_loss: 0.1957 - val_accuracy: 0.8423\n",
            "Epoch 2/4\n",
            "3921/3921 [==============================] - 232s 59ms/step - loss: 0.1800 - accuracy: 0.8642 - val_loss: 0.1624 - val_accuracy: 0.8759\n",
            "Epoch 3/4\n",
            "3921/3921 [==============================] - 231s 59ms/step - loss: 0.1461 - accuracy: 0.8942 - val_loss: 0.1597 - val_accuracy: 0.8747\n",
            "Epoch 4/4\n",
            "3921/3921 [==============================] - 231s 59ms/step - loss: 0.1289 - accuracy: 0.9069 - val_loss: 0.1664 - val_accuracy: 0.8840\n",
            "2451/2451 [==============================] - 58s 24ms/step\n"
          ]
        }
      ],
      "source": [
        "model_norm = Sequential()\n",
        "model_norm.add(Embedding(vocab, 10, input_length = 500))\n",
        "model_norm.add(Bidirectional(tf.keras.layers.GRU(384)))\n",
        "model_norm.add(Dense(384, activation = 'relu'))\n",
        "model_norm.add(Dropout(rate = 0.7))\n",
        "model_norm.add(Dense(128, activation = 'relu'))\n",
        "model_norm.add(Dropout(rate = 0.7))\n",
        "model_norm.add(Dense(4, activation = 'sigmoid'))\n",
        "model_norm.compile(loss = 'binary_crossentropy', optimizer = 'adam', metrics = ['accuracy'])\n",
        "model_norm.fit(X_train_pad_cnn, y_train_multiple, validation_data = (X_validation_pad_cnn, y_validation_multiple), epochs = 4, batch_size = 20)\n",
        "output2 = model_norm.predict(X_train_pad_cnn)"
      ]
    },
    {
      "cell_type": "code",
      "source": [
        "model_norm.evaluate(X_test_pad_cnn, y_test_multiple)"
      ],
      "metadata": {
        "colab": {
          "base_uri": "https://localhost:8080/"
        },
        "id": "VB60omMkzbqg",
        "outputId": "c3a5f04c-12db-4343-e117-8e7e63dca8c5"
      },
      "execution_count": null,
      "outputs": [
        {
          "output_type": "stream",
          "name": "stdout",
          "text": [
            "766/766 [==============================] - 19s 25ms/step - loss: 0.1677 - accuracy: 0.8831\n"
          ]
        },
        {
          "output_type": "execute_result",
          "data": {
            "text/plain": [
              "[0.1677383929491043, 0.8830803036689758]"
            ]
          },
          "metadata": {},
          "execution_count": 25
        }
      ]
    },
    {
      "cell_type": "code",
      "execution_count": null,
      "metadata": {
        "id": "kpuHu8RA2gtc",
        "colab": {
          "base_uri": "https://localhost:8080/"
        },
        "outputId": "92edb89f-7f2c-4637-e2f0-e27ff15e23a6"
      },
      "outputs": [
        {
          "output_type": "stream",
          "name": "stdout",
          "text": [
            "766/766 [==============================] - 3s 4ms/step\n",
            "766/766 [==============================] - 17s 23ms/step\n",
            "613/613 [==============================] - 1s 2ms/step\n",
            "613/613 [==============================] - 14s 23ms/step\n"
          ]
        }
      ],
      "source": [
        "output_test_1 = model_cnn.predict(X_test_pad_cnn)\n",
        "output_test_2 = model_norm.predict(X_test_pad_cnn)\n",
        "merged_outputs_test = np.concatenate([output_test_1, output_test_2], axis = 1)\n",
        "output_validation_1 = model_cnn.predict(X_validation_pad_cnn)\n",
        "output_validation_2 = model_norm.predict(X_validation_pad_cnn)\n",
        "merged_outputs_validation = np.concatenate([output_validation_1, output_validation_2], axis = 1)"
      ]
    },
    {
      "cell_type": "code",
      "execution_count": null,
      "metadata": {
        "colab": {
          "base_uri": "https://localhost:8080/"
        },
        "id": "Q11vSRrown5z",
        "outputId": "4d8034a9-5c79-4f16-969d-6408ee98bb61"
      },
      "outputs": [
        {
          "output_type": "stream",
          "name": "stdout",
          "text": [
            "Epoch 1/5\n",
            "3921/3921 [==============================] - 16s 4ms/step - loss: 0.1883 - accuracy: 0.8630 - val_loss: 0.1546 - val_accuracy: 0.8899\n",
            "Epoch 2/5\n",
            "3921/3921 [==============================] - 12s 3ms/step - loss: 0.0960 - accuracy: 0.9325 - val_loss: 0.1562 - val_accuracy: 0.8893\n",
            "Epoch 3/5\n",
            "3921/3921 [==============================] - 14s 4ms/step - loss: 0.0952 - accuracy: 0.9326 - val_loss: 0.1564 - val_accuracy: 0.8890\n",
            "Epoch 4/5\n",
            "3921/3921 [==============================] - 17s 4ms/step - loss: 0.0950 - accuracy: 0.9328 - val_loss: 0.1581 - val_accuracy: 0.8893\n",
            "Epoch 5/5\n",
            "3921/3921 [==============================] - 14s 4ms/step - loss: 0.0949 - accuracy: 0.9328 - val_loss: 0.1564 - val_accuracy: 0.8895\n"
          ]
        },
        {
          "output_type": "execute_result",
          "data": {
            "text/plain": [
              "<keras.callbacks.History at 0x7f72451a37f0>"
            ]
          },
          "metadata": {},
          "execution_count": 31
        }
      ],
      "source": [
        "merged_outputs = np.concatenate([output1, output2], axis = 1)\n",
        "model_ensemble2 = Sequential()\n",
        "model_ensemble2.add(Dense(4, activation = 'relu'))\n",
        "model_ensemble2.add(Dense(4, activation = 'sigmoid'))\n",
        "model_ensemble2.compile(loss = 'binary_crossentropy', optimizer = 'adam', metrics = ['accuracy'])\n",
        "model_ensemble2.fit(merged_outputs, y_train_multiple, validation_data = (merged_outputs_validation, y_validation_multiple), epochs = 5, batch_size = 20)"
      ]
    },
    {
      "cell_type": "code",
      "execution_count": null,
      "metadata": {
        "colab": {
          "base_uri": "https://localhost:8080/"
        },
        "id": "KJ9hr4D1xV2q",
        "outputId": "fb47c142-6760-4612-f362-dd3ad8859688"
      },
      "outputs": [
        {
          "output_type": "stream",
          "name": "stdout",
          "text": [
            "766/766 [==============================] - 2s 2ms/step - loss: 0.1589 - accuracy: 0.8865\n"
          ]
        },
        {
          "output_type": "execute_result",
          "data": {
            "text/plain": [
              "[0.1589173972606659, 0.8865083456039429]"
            ]
          },
          "metadata": {},
          "execution_count": 32
        }
      ],
      "source": [
        "model_ensemble2.evaluate(merged_outputs_test, y_test_multiple)"
      ]
    }
  ],
  "metadata": {
    "accelerator": "GPU",
    "colab": {
      "provenance": [],
      "include_colab_link": true
    },
    "gpuClass": "standard",
    "kernelspec": {
      "display_name": "Python 3",
      "name": "python3"
    },
    "language_info": {
      "name": "python"
    }
  },
  "nbformat": 4,
  "nbformat_minor": 0
}